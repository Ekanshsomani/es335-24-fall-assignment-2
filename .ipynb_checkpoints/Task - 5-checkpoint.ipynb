{
 "cells": [
  {
   "cell_type": "code",
   "execution_count": null,
   "metadata": {},
   "outputs": [],
   "source": [
    "import torch\n",
    "import torchvision\n",
    "# import torchvision.transforms as transforms\n",
    "import matplotlib.pyplot as plt\n",
    "import matplotlib.gridspec as gridspec\n",
    "\n",
    "import numpy as np\n",
    "import pandas as pd\n",
    "import torch.nn as nn\n",
    "# import torch.nn.functional as F\n",
    "\n",
    "import torch.optim as optim\n",
    "\n",
    "# Remove all the warnings\n",
    "import warnings\n",
    "warnings.filterwarnings('ignore')\n",
    "\n",
    "# Set env CUDA_LAUNCH_BLOCKING=1\n",
    "import os\n",
    "os.environ['CUDA_LAUNCH_BLOCKING'] = '1'\n",
    "device = torch.device(\"cuda\" if torch.cuda.is_available() else \"cpu\")\n",
    "\n",
    "# Retina display\n",
    "%config InlineBackend.figure_format = 'retina'\n",
    "\n",
    "try:\n",
    "    from einops import rearrange\n",
    "except ImportError:\n",
    "    %pip install einops\n",
    "    from einops import rearrange"
   ]
  },
  {
   "cell_type": "code",
   "execution_count": null,
   "metadata": {},
   "outputs": [],
   "source": [
    "if os.path.exists('dog.jpg'):\n",
    "    print('dog.jpg exists')\n",
    "else:\n",
    "    !curl -o dog.jpg https://segment-anything.com/assets/gallery/AdobeStock_94274587_welsh_corgi_pembroke_CD.jpg"
   ]
  },
  {
   "cell_type": "code",
   "execution_count": null,
   "metadata": {},
   "outputs": [],
   "source": [
    "# gradient descent\n",
    "def factorize(A: torch.tensor, r: int):\n",
    "    n = A.shape[0]\n",
    "    U = torch.randn(n, r, requires_grad = True, device = device)\n",
    "    V = torch.randn(r, n, requires_grad = True, device = device)\n",
    "\n",
    "    optimizer = optim.Adam([U, V], lr = 0.01)\n",
    "    mask = ~torch.isnan(A)\n",
    "\n",
    "    for i in range(1000):\n",
    "        diff_matrix = (U @ V) - A\n",
    "        diff_vector = diff_matrix[mask]\n",
    "        loss = torch.norm(diff_vector)\n",
    "\n",
    "        optimizer.zero_grad()\n",
    "        loss.backward()\n",
    "        optimizer.step()\n",
    "    return U, V, loss"
   ]
  },
  {
   "cell_type": "code",
   "execution_count": null,
   "metadata": {},
   "outputs": [],
   "source": [
    "img = torchvision.io.read_image(\"dog.jpg\")\n",
    "print(img.shape)"
   ]
  },
  {
   "cell_type": "code",
   "execution_count": null,
   "metadata": {},
   "outputs": [],
   "source": [
    "img = torch.tensor(img, dtype=torch.float)\n",
    "img = img.mean(dim=0, keepdim=False)\n",
    "print(img.shape)"
   ]
  },
  {
   "cell_type": "code",
   "execution_count": null,
   "metadata": {},
   "outputs": [],
   "source": [
    "crop = torchvision.transforms.functional.crop(img, 600, 800, 500, 500)\n",
    "crop.shape"
   ]
  },
  {
   "cell_type": "code",
   "execution_count": null,
   "metadata": {},
   "outputs": [],
   "source": [
    "factorize(crop, 5)"
   ]
  },
  {
   "cell_type": "code",
   "execution_count": null,
   "metadata": {},
   "outputs": [],
   "source": [
    "# wals method\n",
    "def fac_wals(A: torch.tensor, r: int):\n",
    "    n = A.shape[0]\n",
    "    U = torch.randn(n, r, requires_grad = True, device = device)\n",
    "    V = torch.randn(r, n, requires_grad = True, device = device)\n",
    "\n",
    "    optimizer1 = optim.Adam([U], lr = 0.01)\n",
    "    optimizer2 = optim.Adam([V], lr = 0.01)\n",
    "    mask = ~torch.isnan(A)\n",
    "\n",
    "    for i in range(1000):\n",
    "        # fix V, update U\n",
    "        diff_matrix = (U @ V) - A\n",
    "        diff_vector = diff_matrix[mask]\n",
    "        loss = torch.norm(diff_vector)\n",
    "        optimizer1.zero_grad()\n",
    "        loss.backward()\n",
    "        optimizer1.step()\n",
    "\n",
    "        # fix U, update V\n",
    "        diff_matrix = (U @ V) - A\n",
    "        diff_vector = diff_matrix[mask]\n",
    "        loss = torch.norm(diff_vector)\n",
    "        optimizer2.zero_grad()\n",
    "        loss.backward()\n",
    "        optimizer2.step()\n",
    "\n",
    "    return U, V, loss"
   ]
  }
 ],
 "metadata": {
  "language_info": {
   "name": "python"
  }
 },
 "nbformat": 4,
 "nbformat_minor": 2
}
